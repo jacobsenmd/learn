{
 "cells": [
  {
   "cell_type": "markdown",
   "metadata": {},
   "source": [
    "# Replicating Principal Component Analysis\n",
    "\n",
    "In November 2020 I attended the [Evolution of Collective Computational Abilities of (Pre)Historic Societies working group](https://wiki.santafe.edu/index.php/Evolution_of_Collective_Computational_Abilities_of_(Pre)Historic_Societies_-_Resources), organized through the [Santa Fe Institute](https://santafe.edu).\n",
    "\n",
    "The launching point for the discussion was this paper: [Scale and information-processing thresholds in Holocene social evolution](https://wiki.santafe.edu/images/6/60/Shin2020_scaleinformationthresholds.pdf) by Jaeweon Shin and his coauthors. Replication code is available at [https://github.com/jaewshin/Holocene](https://github.com/jaewshin/Holocene).\n",
    "\n",
    "The paper leverages the Seshat database of hundreds of polities over thousands of years. In an [earlier paper](https://www.pnas.org/content/115/2/E144), Turchin and coauthors used 50+ variables in Seshat to construct 9 variables that measured social complexity. They used PCA to flatten these variables, and found that the first PCA component explained 77% of the variation in the data. In other words, societies seem to evolve along a single primary dimension of complexity.\n",
    "\n",
    "Shin et. al. examine the second PCA component, wich explains a further 6% of the variation. They note a sinusoidal pattern, which leads them to conclude, \"We find that sociopolitical development is dominated first by growth in polity scale, then by improvements in information processing and economic systems, and then by further increases in scale.\" Much of the subsequent research agenda is driven by the discovery of these two \"hinge points\" between polity growth and information technology.\n",
    "\n",
    "## My Question\n",
    "\n",
    "The evidence for the two hinge points rests on a long chain of evidence. The Seshat creators code 1500 variables, Turchin chooses 50 and constructs 9 complexity variables, and then Shin flattens those complexity variables using PCA. I was curious about the variables that actually went into PCA2 and drove the analysis. I figured this would also be a good chance to learn more about PCA."
   ]
  },
  {
   "cell_type": "code",
   "execution_count": 1,
   "metadata": {},
   "outputs": [],
   "source": [
    "import pandas as pd\n",
    "import numpy as np\n",
    "from sklearn.preprocessing import StandardScaler\n",
    "from sklearn.decomposition import PCA\n",
    "from matplotlib import pyplot as plt\n",
    "from scipy.stats import pearsonr"
   ]
  },
  {
   "cell_type": "code",
   "execution_count": 2,
   "metadata": {},
   "outputs": [],
   "source": [
    "# Load Shin's starting data, which comes from Turchin and includes the 9 complexity variables\n",
    "d = pd.read_csv('data1.csv')"
   ]
  },
  {
   "cell_type": "markdown",
   "metadata": {},
   "source": [
    "The first thing I did was look at histograms of the variables feeding PCA2. Most appeared fairly continuous, but **writing** and **texts** were heavily loaded in PCA2 and showed a strong bimodal distribution; these did not rise continuously over time, but appeared to \"switch on\" at certain points in a polity's history."
   ]
  },
  {
   "cell_type": "code",
   "execution_count": 3,
   "metadata": {},
   "outputs": [
    {
     "data": {
      "image/png": "[encoded data removed]",
      "text/plain": [
       "<Figure size 432x288 with 1 Axes>"
      ]
     },
     "metadata": {
      "needs_background": "light"
     },
     "output_type": "display_data"
    },
    {
     "data": {
      "image/png": "[encoded data removed]",
      "text/plain": [
       "<Figure size 432x288 with 1 Axes>"
      ]
     },
     "metadata": {
      "needs_background": "light"
     },
     "output_type": "display_data"
    }
   ],
   "source": [
    "plt.hist(d['texts'])\n",
    "plt.show()\n",
    "\n",
    "plt.hist(d['writing'])\n",
    "plt.show()"
   ]
  },
  {
   "cell_type": "markdown",
   "metadata": {},
   "source": [
    "Furthermore, these two variables are highly correlated."
   ]
  },
  {
   "cell_type": "code",
   "execution_count": 4,
   "metadata": {},
   "outputs": [
    {
     "data": {
      "text/plain": [
       "(0.9008946369780639, 0.0)"
      ]
     },
     "execution_count": 4,
     "metadata": {},
     "output_type": "execute_result"
    }
   ],
   "source": [
    "pearsonr(d['writing'], d['texts'])"
   ]
  },
  {
   "cell_type": "markdown",
   "metadata": {},
   "source": [
    "Was it possible that this sudden \"switching on\" of writing was swamping the other data? To check, I decided to replicate the PCA and then remove writing and texts."
   ]
  },
  {
   "cell_type": "markdown",
   "metadata": {},
   "source": [
    "The replication code was incredibly complex. The authors implemented most of the key methods themselves using standard libraries, and the code included mysteries I still don't understand, such as loading and using two different copies of the same dataset in the same calculation.\n",
    "\n",
    "I opted to begin by using sklearn to implement PCA."
   ]
  },
  {
   "cell_type": "code",
   "execution_count": 5,
   "metadata": {},
   "outputs": [
    {
     "name": "stdout",
     "output_type": "stream",
     "text": [
      "[0.77214914 0.05973755]\n",
      "                 PC1       PC2\n",
      "PolPop     -0.927575 -0.248479\n",
      "PolTerr    -0.848820 -0.348062\n",
      "CapPop     -0.888208 -0.273982\n",
      "levels     -0.899314 -0.150166\n",
      "government -0.877833  0.094731\n",
      "infrastr   -0.877551  0.123563\n",
      "texts      -0.921088  0.237218\n",
      "writing    -0.865982  0.310443\n",
      "money      -0.795362  0.283388\n"
     ]
    }
   ],
   "source": [
    "def run_pca(pc_vars):\n",
    "    d = pd.read_csv('data1.csv')\n",
    "    raw_matrix = d[pc_vars]\n",
    "    scaled_matrix = StandardScaler().fit_transform(raw_matrix)\n",
    "\n",
    "    pca = PCA(n_components=2)\n",
    "    principalComponents = pca.fit_transform(scaled_matrix)\n",
    "    principalDf = pd.DataFrame(data=principalComponents, columns=['PC1', 'PC2'])\n",
    "\n",
    "    # See https://stackoverflow.com/questions/21217710/factor-loadings-using-sklearn\n",
    "    loadings = pd.DataFrame(pca.components_.T * np.sqrt(pca.explained_variance_), columns=['PC1','PC2'], index=pc_vars)\n",
    "    \n",
    "    print(pca.explained_variance_ratio_)                \n",
    "    print(loadings)                    \n",
    "                            \n",
    "pc_vars = ['PolPop', 'PolTerr', 'CapPop', 'levels', 'government', 'infrastr', 'texts', 'writing', 'money']                \n",
    "run_pca(pc_vars)"
   ]
  },
  {
   "cell_type": "markdown",
   "metadata": {},
   "source": [
    "These results almost perfectly replicate the Shin paper. PCA1 explains 77.2% of the variance, PCA2 explains 6% of the variance, and the magnitude of the PCA loadings matches. However, all the PCA1 loading signs are negative, while they are positive in the paper. Googling eventually led me to discover that sklearn's implementation of PCA results in flipped signs sometimes. See https://stackoverflow.com/questions/44765682/in-sklearn-decomposition-pca-why-are-components-negative."
   ]
  },
  {
   "cell_type": "markdown",
   "metadata": {},
   "source": [
    "It appears the only way to replicate the paper was to implement my own PCA method, which was pretty easy using the singular value decomposition method in numpy. This method replicates the Shin paper with the proper signs."
   ]
  },
  {
   "cell_type": "code",
   "execution_count": 6,
   "metadata": {},
   "outputs": [],
   "source": [
    "# My own implementation of PCA, which gets the signs correct.\n",
    "# Code based on looking at the sklearn source code and the seshat.py code\n",
    "# Returns:\n",
    "#   principal components (DataFrame nrows x n_components)\n",
    "#   explained variance ratio (array of n_components)\n",
    "#   loadings (DataFrame n_factors x n_components)\n",
    "def run_custom_pca(pc_vars, n_components):\n",
    "    d = pd.read_csv('data1.csv')\n",
    "    raw_matrix = d[pc_vars]\n",
    "    scaled_matrix = StandardScaler().fit_transform(raw_matrix)\n",
    "\n",
    "    U, S, V = np.linalg.svd(scaled_matrix, full_matrices=False)\n",
    "\n",
    "    n_samples, n_features = scaled_matrix.shape\n",
    "    explained_variance_ = (S ** 2) / (n_samples - 1)\n",
    "    total_var = explained_variance_.sum()\n",
    "    explained_variance_ratio = explained_variance_ / total_var\n",
    "\n",
    "    loadings = pd.DataFrame(V.T * np.sqrt(explained_variance_), index=pc_vars)\n",
    "\n",
    "    pc = np.matmul(scaled_matrix, V.T)\n",
    "\n",
    "    return(pc[:, 0:n_components], explained_variance_ratio[0:n_components], loadings.iloc[:, 0:n_components])"
   ]
  },
  {
   "cell_type": "code",
   "execution_count": 7,
   "metadata": {},
   "outputs": [
    {
     "name": "stdout",
     "output_type": "stream",
     "text": [
      "[0.77214914 0.05973755]\n",
      "                   0         1\n",
      "PolPop      0.927575 -0.248479\n",
      "PolTerr     0.848820 -0.348062\n",
      "CapPop      0.888208 -0.273982\n",
      "levels      0.899314 -0.150166\n",
      "government  0.877833  0.094731\n",
      "infrastr    0.877551  0.123563\n",
      "writing     0.865982  0.310443\n",
      "texts       0.921088  0.237218\n",
      "money       0.795362  0.283388\n"
     ]
    }
   ],
   "source": [
    "pc_vars = ['PolPop', 'PolTerr', 'CapPop', 'levels', 'government', 'infrastr', 'writing', 'texts', 'money']\n",
    "\n",
    "U, explained_variance_ratio, loadings = run_custom_pca(pc_vars, n_components=2)\n",
    "print(explained_variance_ratio)\n",
    "print(loadings)"
   ]
  },
  {
   "cell_type": "markdown",
   "metadata": {},
   "source": [
    "The next step was to remove the **text** and **writing** variables. I was surprised to see that this did not significantly change either the variation explained or the sinusoidal pattern in the data. Other positively loaded variables like **infrastr**, **government**, and **money** simply become stronger and continue to drive the results. Shin's findings stand."
   ]
  },
  {
   "cell_type": "code",
   "execution_count": 8,
   "metadata": {},
   "outputs": [
    {
     "name": "stdout",
     "output_type": "stream",
     "text": [
      "[0.77738106 0.0661246 ]\n",
      "                   0         1\n",
      "PolPop      0.942130 -0.192589\n",
      "PolTerr     0.861607 -0.375788\n",
      "CapPop      0.907378 -0.172326\n",
      "levels      0.912653 -0.040326\n",
      "government  0.876168  0.197351\n",
      "infrastr    0.875326  0.248037\n",
      "money       0.788804  0.390933\n"
     ]
    }
   ],
   "source": [
    "pc_vars = ['PolPop', 'PolTerr', 'CapPop', 'levels', 'government', 'infrastr', 'money']\n",
    "\n",
    "U, explained_variance_ratio, loadings = run_custom_pca(pc_vars, n_components=2)\n",
    "print(explained_variance_ratio)\n",
    "print(loadings)"
   ]
  },
  {
   "cell_type": "code",
   "execution_count": null,
   "metadata": {},
   "outputs": [],
   "source": []
  }
 ],
 "metadata": {
  "kernelspec": {
   "display_name": "Python 3",
   "language": "python",
   "name": "python3"
  },
  "language_info": {
   "codemirror_mode": {
    "name": "ipython",
    "version": 3
   },
   "file_extension": ".py",
   "mimetype": "text/x-python",
   "name": "python",
   "nbconvert_exporter": "python",
   "pygments_lexer": "ipython3",
   "version": "3.7.4"
  }
 },
 "nbformat": 4,
 "nbformat_minor": 4
}
